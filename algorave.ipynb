{
 "cells": [
  {
   "cell_type": "markdown",
   "metadata": {},
   "source": [
    "### IMPORTANT! BEFORE YOU START:"
   ]
  },
  {
   "cell_type": "markdown",
   "metadata": {},
   "source": [
    "### Open SuperCollider and evaluate the following line of code:"
   ]
  },
  {
   "cell_type": "markdown",
   "metadata": {},
   "source": [
    "<code>FoxDot.start</code>"
   ]
  },
  {
   "cell_type": "markdown",
   "metadata": {},
   "source": [
    "### Once SuperCollider indicates that it is listening for messages from FoxDot, run the following two cells:"
   ]
  },
  {
   "cell_type": "code",
   "execution_count": 1,
   "metadata": {},
   "outputs": [
    {
     "name": "stdout",
     "output_type": "stream",
     "text": [
      "Warning: Could not fetch info from SCLang server. Using defaults...\n",
      "Error sending message to SuperCollider server instance: make sure FoxDot quark is running and try again.\n",
      "Error: No connection made to SuperCollider server instance.\n"
     ]
    }
   ],
   "source": [
    "from FoxDot import *"
   ]
  },
  {
   "cell_type": "code",
   "execution_count": 2,
   "metadata": {},
   "outputs": [],
   "source": [
    "from __future__ import division\n",
    "import numpy\n",
    "import matplotlib"
   ]
  },
  {
   "cell_type": "markdown",
   "metadata": {},
   "source": [
    "### Note: you only need to explicitly import the FoxDot library in environments other than the FoxDot and Troop applications"
   ]
  },
  {
   "cell_type": "markdown",
   "metadata": {},
   "source": [
    "<hr>"
   ]
  },
  {
   "cell_type": "markdown",
   "metadata": {},
   "source": [
    "# INTRODUCTION TO ALGORITHMS AS ART"
   ]
  },
  {
   "cell_type": "markdown",
   "metadata": {},
   "source": [
    "## *>> Objective:  Create a layered rhthym section using only a sequence of binary numbers*"
   ]
  },
  {
   "cell_type": "markdown",
   "metadata": {},
   "source": [
    "## First thing's first..."
   ]
  },
  {
   "cell_type": "markdown",
   "metadata": {},
   "source": [
    "### Set some global parameters:"
   ]
  },
  {
   "cell_type": "code",
   "execution_count": 6,
   "metadata": {},
   "outputs": [
    {
     "data": {
      "text/plain": [
       "P[0, 3, 5, 7, 10]"
      ]
     },
     "execution_count": 6,
     "metadata": {},
     "output_type": "execute_result"
    }
   ],
   "source": [
    "# Sets global tempo\n",
    "Clock.bpm = 118\n",
    "\n",
    "# Sets default scale\n",
    "Scale.default.set(\"minorPentatonic\", tuning = Tuning.just)"
   ]
  },
  {
   "cell_type": "markdown",
   "metadata": {},
   "source": [
    "### Tip: come back later and experiment with different scales and bpm values.  The same patterns can sound strikingly different when generated with a different scale, tuning, or tempo. "
   ]
  },
  {
   "cell_type": "code",
   "execution_count": 4,
   "metadata": {},
   "outputs": [
    {
     "name": "stdout",
     "output_type": "stream",
     "text": [
      "['aeolian', 'altered', 'bebopDom', 'bebopDorian', 'bebopMaj', 'bebopMelMin', 'blues', 'chinese', 'chromatic', 'custom', 'default', 'diminished', 'dorian', 'dorian2', 'egyptian', 'freq', 'halfDim', 'halfWhole', 'harmonicMajor', 'harmonicMinor', 'hungarianMinor', 'indian', 'justMajor', 'justMinor', 'locrian', 'locrianMajor', 'lydian', 'lydianAug', 'lydianDom', 'lydianMinor', 'major', 'majorPentatonic', 'melMin5th', 'melodicMajor', 'melodicMinor', 'minMaj', 'minor', 'minorPentatonic', 'mixolydian', 'phrygian', 'prometheus', 'romanianMinor', 'susb9', 'wholeHalf', 'wholeTone', 'yu', 'zhi']\n"
     ]
    }
   ],
   "source": [
    "print(Scale.names())"
   ]
  },
  {
   "cell_type": "markdown",
   "metadata": {},
   "source": [
    "### Make sure SuperCollider and FoxDot are communicating by creating a 'play' object:"
   ]
  },
  {
   "cell_type": "code",
   "execution_count": 5,
   "metadata": {},
   "outputs": [
    {
     "data": {
      "text/plain": [
       "<d1 - play2>"
      ]
     },
     "execution_count": 5,
     "metadata": {},
     "output_type": "execute_result"
    }
   ],
   "source": [
    "# A kick-drum pulse\n",
    "d1 >> play(\"x\", sample = 3)"
   ]
  },
  {
   "cell_type": "markdown",
   "metadata": {},
   "source": [
    "### Ok, that's enough of that..."
   ]
  },
  {
   "cell_type": "code",
   "execution_count": null,
   "metadata": {},
   "outputs": [],
   "source": [
    "# Stops only the player object\n",
    "d1.stop()"
   ]
  },
  {
   "cell_type": "markdown",
   "metadata": {},
   "source": [
    "<hr >"
   ]
  },
  {
   "cell_type": "markdown",
   "metadata": {},
   "source": [
    "# Binary Patterns"
   ]
  },
  {
   "cell_type": "markdown",
   "metadata": {},
   "source": [
    "## Thue-Morse sequence"
   ]
  },
  {
   "cell_type": "markdown",
   "metadata": {},
   "source": [
    "https://en.wikipedia.org/wiki/Thue%E2%80%93Morse_sequence"
   ]
  },
  {
   "cell_type": "markdown",
   "metadata": {},
   "source": [
    "### Thue-Morse sequence in Pseudo-code:"
   ]
  },
  {
   "cell_type": "markdown",
   "metadata": {},
   "source": [
    "<pre><code><b>thue_morse</b>(seq_length):\n",
    "    <b>input:</b> integer <i>value</i> \n",
    "    value = 0\n",
    "    <b>for</b> n = 0 to seq_length - 1 by 1:     \n",
    "        x = n ^ (n - 1)                         \n",
    "        <b>if</b> ((x ^ (x>>1)) & 0x55555555):\n",
    "            value = 1 - value\n",
    "        <b>return</b> value</code></pre>"
   ]
  },
  {
   "cell_type": "markdown",
   "metadata": {},
   "source": [
    "### ...or, more simply, as axiom-substitution:"
   ]
  },
  {
   "cell_type": "markdown",
   "metadata": {},
   "source": [
    "<pre><code><b>Variables:</b> 0,1\n",
    "<b>Start:</b> 0\n",
    "<b>Rules:</b> (0 => 01), (1 => 10)</code></pre>"
   ]
  },
  {
   "cell_type": "markdown",
   "metadata": {},
   "source": [
    "### A compressed implementation in Python:"
   ]
  },
  {
   "cell_type": "code",
   "execution_count": null,
   "metadata": {},
   "outputs": [],
   "source": [
    "def thue_morse(n):\n",
    "    return Pattern([bin(i).count('1') % 2 for i in range(n)])"
   ]
  },
  {
   "cell_type": "code",
   "execution_count": null,
   "metadata": {},
   "outputs": [],
   "source": [
    "tm_seq = thue_morse(256)\n",
    "\n",
    "print(tm_seq)"
   ]
  },
  {
   "cell_type": "markdown",
   "metadata": {},
   "source": [
    "## *>> Challenge: what can we do with only 1s and 0s?*"
   ]
  },
  {
   "cell_type": "markdown",
   "metadata": {},
   "source": [
    "### A simple algorithm:  "
   ]
  },
  {
   "cell_type": "markdown",
   "metadata": {},
   "source": [
    "<pre><code><b>syncopated_beat</b>(<i>bin_seq</i>, <i>p</i>):\n",
    "    <b>input:</b> sequence of binary digits <i>bin_seq</i>\n",
    "    <b>variables:</b> pulse <i>p</i>\n",
    "    <b>for</b> i in <i>bin_seq</i>:\n",
    "        <b>if</b> i == 0:\n",
    "            play(silence(<i>p</i>))\n",
    "        <b>else</b>:\n",
    "            play(sound(<i>p</i>))<code></pre>"
   ]
  },
  {
   "cell_type": "markdown",
   "metadata": {},
   "source": [
    "### The above pseudo-code traverses a sequence of binary digits and either triggers a sound event if encountering a 1 or leaves a rest if encountering a 0 "
   ]
  },
  {
   "cell_type": "markdown",
   "metadata": {},
   "source": [
    "### When passed as the 'amplify' parameter in a 'play' object, this generates a simple syncopated beat:"
   ]
  },
  {
   "cell_type": "code",
   "execution_count": null,
   "metadata": {},
   "outputs": [],
   "source": [
    "# Resets the session clock back to zero so that we can hear the pattern from the beginning\n",
    "#Clock.reset()\n",
    "\n",
    "# We could also use the 'amp' parameter but more on that later...\n",
    "d1 >> play(\"x\", amplify = tm_seq, sample = 3)"
   ]
  },
  {
   "cell_type": "markdown",
   "metadata": {},
   "source": [
    "### Not the most interesting beat but we can work with this..."
   ]
  },
  {
   "cell_type": "code",
   "execution_count": null,
   "metadata": {},
   "outputs": [],
   "source": [
    "d1.stop()"
   ]
  },
  {
   "cell_type": "markdown",
   "metadata": {},
   "source": [
    "### ...but it might be better to start the kick pattern on a downbeat. Let's rotate the seqence one space to the left:"
   ]
  },
  {
   "cell_type": "code",
   "execution_count": null,
   "metadata": {},
   "outputs": [],
   "source": [
    "print(\"Original  => \", tm_seq)\n",
    "\n",
    "tm_seq = tm_seq.rotate()\n",
    "\n",
    "print(\".rotate() => \", tm_seq)"
   ]
  },
  {
   "cell_type": "markdown",
   "metadata": {},
   "source": [
    "### How does that sound?"
   ]
  },
  {
   "cell_type": "code",
   "execution_count": null,
   "metadata": {},
   "outputs": [],
   "source": [
    "Clock.reset()\n",
    "\n",
    "d1 >> play(\"x\", amplify = tm_seq, sample = 3)"
   ]
  },
  {
   "cell_type": "code",
   "execution_count": null,
   "metadata": {},
   "outputs": [],
   "source": [
    "d1.stop()"
   ]
  },
  {
   "cell_type": "markdown",
   "metadata": {},
   "source": [
    "### That's better."
   ]
  },
  {
   "cell_type": "markdown",
   "metadata": {},
   "source": [
    "## *>> Challenge:  how can we build on the kick pattern using only this binary sequence?*"
   ]
  },
  {
   "cell_type": "markdown",
   "metadata": {},
   "source": [
    "### We could 'flip' all the 0s into 1s and all the 1s into 0s "
   ]
  },
  {
   "cell_type": "code",
   "execution_count": null,
   "metadata": {},
   "outputs": [],
   "source": [
    "# The .invert() function creates an inverted version of pattern by subtracting its values \n",
    "# from the largest value in the pattern such that the largest value in the pattern becomes \n",
    "# the smallest (and vice versa) and the difference between other values and the min/max are swapped:\n",
    "print(\"Original  => \", tm_seq)\n",
    "print(\".invert() => \", Pattern([round(x) for x in tm_seq.invert()]))"
   ]
  },
  {
   "cell_type": "markdown",
   "metadata": {},
   "source": [
    "### Lace the original pattern with its inversion to construct a filled-out rhythmic framework"
   ]
  },
  {
   "cell_type": "code",
   "execution_count": null,
   "metadata": {},
   "outputs": [],
   "source": [
    "#Clock.reset()\n",
    "\n",
    "#d1 >> play(\"x\", amplify = tm_seq, sample = 3)\n",
    "\n",
    "d2 >> play(\"(h(H*))\", amp = 1/2, amplify = tm_seq.invert(), pan = [-1,1], sample = 0)"
   ]
  },
  {
   "cell_type": "markdown",
   "metadata": {},
   "source": [
    "### Now we're getting somewhere.  What else can we do?"
   ]
  },
  {
   "cell_type": "markdown",
   "metadata": {},
   "source": [
    "### Scaling is a simple but powerful means of creating multi-layered patterns based on a single sequence.  \n",
    "### Compress the duration by passing a fractional value to the 'dur' parameter.   \n",
    "### Now we have a hi-hat pattern:"
   ]
  },
  {
   "cell_type": "code",
   "execution_count": null,
   "metadata": {},
   "outputs": [],
   "source": [
    "# Note to musicians: in FoxDot, the '1/4' argument value here is NOT the same thing as a conventional quater-note\n",
    "# We'll get into what that is later...\n",
    "d3 >> play(\"--(-:)-\", dur = 1/4, amp = expvar([1/2,1],8), amplify = tm_seq, pan = [1,-1])"
   ]
  },
  {
   "cell_type": "markdown",
   "metadata": {},
   "source": [
    "### We can also rotate the sequence every n-number of beats to break up the monotony:"
   ]
  },
  {
   "cell_type": "code",
   "execution_count": null,
   "metadata": {},
   "outputs": [],
   "source": [
    "d3.amplify = tm_seq.rotate(var(P[:int(len(tm_seq))],16))"
   ]
  },
  {
   "cell_type": "markdown",
   "metadata": {},
   "source": [
    "### Random 'stutter' effects can add interest and relief from repetition:"
   ]
  },
  {
   "cell_type": "code",
   "execution_count": null,
   "metadata": {},
   "outputs": [],
   "source": [
    "# Hi-hats\n",
    "d3.every(7.5, 'stutter', 8, dur = 1/2, pshift = PRand(5), hpf = 4500)"
   ]
  },
  {
   "cell_type": "code",
   "execution_count": null,
   "metadata": {},
   "outputs": [],
   "source": [
    "# Snaps / Claps / Shakers\n",
    "#d2.sometimes('stutter', 3, dur = 1, hpf = 4500)\n",
    "\n",
    "d2.echo = var([0,1/4],15.5)\n",
    "d2.echotime = var([0,1],15.5)"
   ]
  },
  {
   "cell_type": "code",
   "execution_count": null,
   "metadata": {},
   "outputs": [],
   "source": [
    "# Kick drum\n",
    "d1.every(15.5, 'stutter', 2, dur = 1/2)"
   ]
  },
  {
   "cell_type": "markdown",
   "metadata": {},
   "source": [
    "### Iterating through the sample folder creates additional timbre-variation"
   ]
  },
  {
   "cell_type": "code",
   "execution_count": null,
   "metadata": {},
   "outputs": [],
   "source": [
    "# Kick\n",
    "d1.sample = [3,[2,4]] # nested patterns\n",
    "\n",
    "# Snaps, Claps, Shakers\n",
    "d2.sample = PRand(8) # random selections\n",
    "\n",
    "# Hi-hats\n",
    "d3.sample = P[:6] # simple iteration"
   ]
  },
  {
   "cell_type": "markdown",
   "metadata": {},
   "source": [
    "### Even though we're working with a binary-sequence, we don't need to limit ourselves to strict 'ON / OFF' commands.\n",
    "### We can modify our algorithm to interpret 0s as 'unaccented' notes and 1s as 'accented' notes: "
   ]
  },
  {
   "cell_type": "code",
   "execution_count": null,
   "metadata": {},
   "outputs": [],
   "source": [
    "(tm_seq + 1)*.5"
   ]
  },
  {
   "cell_type": "markdown",
   "metadata": {},
   "source": [
    "### Notice that the 1s are still 1s but the 0s have been scaled-up to 0.5s"
   ]
  },
  {
   "cell_type": "markdown",
   "metadata": {},
   "source": [
    "### This 'normalized' variation makes for an accented bassline:"
   ]
  },
  {
   "cell_type": "code",
   "execution_count": null,
   "metadata": {},
   "outputs": [],
   "source": [
    "var.bass_line = var([1,[0,3]],8)\n",
    "\n",
    "b1 >> bass(var.bass_line, delay = PRand([.25,.75]), dur = 1/2, sus = b1.dur/2, blur = 1, amp = 1, amplify = tm_seq.rotate(1), dist = 0, hpf = 80, lpf = 900)"
   ]
  },
  {
   "cell_type": "markdown",
   "metadata": {},
   "source": [
    "### ...and the same pattern an octave higher to make a synth line:"
   ]
  },
  {
   "cell_type": "code",
   "execution_count": null,
   "metadata": {},
   "outputs": [],
   "source": [
    "s1 >> zap(b1.degree[0], oct = 5, dur = 1/4, sus = 1, amp = linvar([1/2,1],8), amplify = (tm_seq.rotate(1).invert() + 1)*.65, pan = [-1,1]).spread()"
   ]
  },
  {
   "cell_type": "markdown",
   "metadata": {},
   "source": [
    "### Fill out the harmony with some pads:"
   ]
  },
  {
   "cell_type": "code",
   "execution_count": null,
   "metadata": {},
   "outputs": [],
   "source": [
    "s2 >> swell(dur = 2, sus = 4, blur = 2, amp = linvar([1/2,1],8), amplify = 1, lpf = 1250).follow(s1).spread() + (0,2,3)\n",
    "\n",
    "s3 >> varsaw(dur = 1/2, sus = 4, blur = 2, amp = expvar([1/2,1],8), amplify = var([0,1/2],[24,8]), hpf = 1250).follow(s2).spread()"
   ]
  },
  {
   "cell_type": "markdown",
   "metadata": {},
   "source": [
    "### Add some reverb to blend everything together..."
   ]
  },
  {
   "cell_type": "code",
   "execution_count": null,
   "metadata": {},
   "outputs": [],
   "source": [
    "# Percussion:\n",
    "d1.room = .1; d1.mix = .1\n",
    "d2.room = .3; d2.mix = .3\n",
    "d3.room = .2; d3.mix = .2\n",
    "\n",
    "# Synths:\n",
    "s_all.room = .6; s_all.mix = .5\n",
    "\n",
    "# Bass:\n",
    "b1.room = .5; b1.mix = .3"
   ]
  },
  {
   "cell_type": "markdown",
   "metadata": {},
   "source": [
    "### Add some effects for color..."
   ]
  },
  {
   "cell_type": "markdown",
   "metadata": {},
   "source": [
    "### Tip: experiment with evaluating these cells in different orders and combinations"
   ]
  },
  {
   "cell_type": "code",
   "execution_count": null,
   "metadata": {},
   "outputs": [],
   "source": [
    "# Vibrato\n",
    "s1.vib = 12"
   ]
  },
  {
   "cell_type": "code",
   "execution_count": null,
   "metadata": {},
   "outputs": [],
   "source": [
    "# \"Chop\" or \"slicing\"\n",
    "s3.chop = var([0,[[8,24],16]],[24,8])"
   ]
  },
  {
   "cell_type": "code",
   "execution_count": null,
   "metadata": {},
   "outputs": [],
   "source": [
    "# Shape distortion\n",
    "s2.shape = .15"
   ]
  },
  {
   "cell_type": "code",
   "execution_count": null,
   "metadata": {},
   "outputs": [],
   "source": [
    "# Distortion\n",
    "b1.dist = linvar([0,.5],16)"
   ]
  },
  {
   "cell_type": "code",
   "execution_count": null,
   "metadata": {},
   "outputs": [],
   "source": [
    "# Bit-crushing\n",
    "d1.crush = var([4,8],8); d1.bits = 8"
   ]
  },
  {
   "cell_type": "code",
   "execution_count": null,
   "metadata": {},
   "outputs": [],
   "source": [
    "# Pitch-shifting\n",
    "d2.pshift = (-1/32,1/32)"
   ]
  },
  {
   "cell_type": "code",
   "execution_count": null,
   "metadata": {},
   "outputs": [],
   "source": [
    "# Echo\n",
    "d3.echo = 1/4"
   ]
  },
  {
   "cell_type": "markdown",
   "metadata": {},
   "source": [
    "### Filter and envelope moduation for dynamic expression..."
   ]
  },
  {
   "cell_type": "code",
   "execution_count": null,
   "metadata": {},
   "outputs": [],
   "source": [
    "# Low-pass filter\n",
    "b1.lpf = linvar([5_500,1_500],16)"
   ]
  },
  {
   "cell_type": "code",
   "execution_count": null,
   "metadata": {},
   "outputs": [],
   "source": [
    "# Blur (similar to 'release')\n",
    "b1.blur = linvar([1,2],32)"
   ]
  },
  {
   "cell_type": "code",
   "execution_count": null,
   "metadata": {},
   "outputs": [],
   "source": [
    "# Blur\n",
    "s_all.blur = linvar([1/2,4],32)"
   ]
  },
  {
   "cell_type": "code",
   "execution_count": null,
   "metadata": {},
   "outputs": [],
   "source": [
    "# Band-pass filter\n",
    "s1.bpf = linvar([2_500,1_200],16)\n",
    "# Band-pass filter resonance\n",
    "s1.bpr = linvar([1,.5],8)"
   ]
  },
  {
   "cell_type": "code",
   "execution_count": null,
   "metadata": {},
   "outputs": [],
   "source": [
    "# High-pass filter\n",
    "d3.hpf = linvar([4_000,900],16)"
   ]
  },
  {
   "cell_type": "markdown",
   "metadata": {},
   "source": [
    "### Yes, it's easy to get carried away... \n",
    "### Let's bring it down for a minute..."
   ]
  },
  {
   "cell_type": "code",
   "execution_count": null,
   "metadata": {},
   "outputs": [],
   "source": [
    "# Assign multiple player objects to a single object\n",
    "ens_1 = Group(d1,d2,b1,s2)\n",
    "\n",
    "# Applies effect to a group\n",
    "ens_1.solo()\n",
    "\n",
    "# Applies effect(s) the entire session\n",
    "Master().amplify = linvar([.5,1],32)\n",
    "Master().lpf = linvar([1_100,250],32,start=now)"
   ]
  },
  {
   "cell_type": "code",
   "execution_count": null,
   "metadata": {},
   "outputs": [],
   "source": []
  },
  {
   "cell_type": "code",
   "execution_count": null,
   "metadata": {},
   "outputs": [],
   "source": [
    "Master().amplify = 1\n",
    "Master().lpf = linvar([250,20_000],[8,inf],start=now)"
   ]
  },
  {
   "cell_type": "code",
   "execution_count": null,
   "metadata": {},
   "outputs": [],
   "source": [
    "d1 >> play(\"P\", amp = 2/3, amplify = tm_seq, lpf = 900, crush = 0, pshift = 0, sample = PWalk())"
   ]
  },
  {
   "cell_type": "code",
   "execution_count": null,
   "metadata": {},
   "outputs": [],
   "source": [
    "d2 >> play(\"m\", amp = 1/2, amplify = tm_seq.invert(), pan = PRand([-1,1]), mix = .4, pshift = 0, sample = P[:10])"
   ]
  },
  {
   "cell_type": "code",
   "execution_count": null,
   "metadata": {},
   "outputs": [],
   "source": [
    "d3 >> play(\"ss(s+)s\", dur = 1/4, amp = 1/2, amplify = tm_seq, pan = [-1,1], sample = P[:20], mix = .2)"
   ]
  },
  {
   "cell_type": "code",
   "execution_count": null,
   "metadata": {},
   "outputs": [],
   "source": [
    "b1 >> bass(var.bass_line, delay = PRand([.25,.5,.75,1.5]), dur = 1/2, sus = b1.dur/2, amp = 1, amplify = tm_seq.rotate(1), lpf = 1_800)"
   ]
  },
  {
   "cell_type": "code",
   "execution_count": null,
   "metadata": {},
   "outputs": [],
   "source": [
    "s1 >> piano(var.bass_line, oct = 4, dur = 1/4, sus = s1.dur*2, blur = 2, amp = linvar([1/3,1],8), amplify = (tm_seq.rotate(1).invert() + 1)*.65, pan = 0).spread() + (0,2,3)"
   ]
  },
  {
   "cell_type": "code",
   "execution_count": null,
   "metadata": {},
   "outputs": [],
   "source": [
    "s2 >> bell(P[0,1,2].arp([0,[3,-2],[4,1,5]]), oct = (7,5,6), delay = PRand([0,.25,.5,.75,1.25,1.5]), dur = 1/2, sus = 2, blur = 2, chop = 0, amp = linvar([1/2,1],8), amplify = tm_seq*.2, pan = linvar([1,-1],5))"
   ]
  },
  {
   "cell_type": "code",
   "execution_count": null,
   "metadata": {},
   "outputs": [],
   "source": []
  },
  {
   "cell_type": "code",
   "execution_count": null,
   "metadata": {},
   "outputs": [],
   "source": [
    "Clock.clear()"
   ]
  },
  {
   "cell_type": "code",
   "execution_count": null,
   "metadata": {},
   "outputs": [],
   "source": []
  },
  {
   "cell_type": "markdown",
   "metadata": {},
   "source": [
    "### Let's add a new sequence to the mix that uses more than just 0's and 1's..."
   ]
  },
  {
   "cell_type": "markdown",
   "metadata": {},
   "source": [
    "# Integer Sequences"
   ]
  },
  {
   "cell_type": "markdown",
   "metadata": {},
   "source": [
    "## Rudin-Shapiro sequence:"
   ]
  },
  {
   "cell_type": "markdown",
   "metadata": {},
   "source": [
    "https://en.wikipedia.org/wiki/Rudin%E2%80%93Shapiro_sequence"
   ]
  },
  {
   "cell_type": "markdown",
   "metadata": {},
   "source": [
    "[: PSEUDO-CODE"
   ]
  },
  {
   "cell_type": "markdown",
   "metadata": {},
   "source": [
    "### Rudin-Shapiro sequence implemented in Python:"
   ]
  },
  {
   "cell_type": "code",
   "execution_count": null,
   "metadata": {},
   "outputs": [],
   "source": [
    "def rudin_shapiro(n):\n",
    "    \n",
    "    def hamming(x):\n",
    "        # Hamming weight of a binary sequence\n",
    "        return bin(x).count('1')\n",
    "\n",
    "    out = []\n",
    "    for i in range(n):\n",
    "        b = hamming(i << 1 & i)\n",
    "        a = (-1)**b\n",
    "        out.append(a)\n",
    "        \n",
    "    pat = P[0]\n",
    "    for i in range(n):\n",
    "        pat.append(pat[i] + out[i])\n",
    "\n",
    "    return Pattern(pat)"
   ]
  },
  {
   "cell_type": "code",
   "execution_count": null,
   "metadata": {},
   "outputs": [],
   "source": [
    "rs_seq = rudin_shapiro(64)\n",
    "\n",
    "print(rs_seq)"
   ]
  },
  {
   "cell_type": "markdown",
   "metadata": {},
   "source": [
    "## >> Challenge: how can we introduce this new sequence while keeping it connected to the binary pattern we've been using?"
   ]
  },
  {
   "cell_type": "markdown",
   "metadata": {},
   "source": [
    "### We could create a new sequence that is a composite of the old and new patterns..."
   ]
  },
  {
   "cell_type": "markdown",
   "metadata": {},
   "source": [
    "## Composite Functions"
   ]
  },
  {
   "cell_type": "markdown",
   "metadata": {},
   "source": [
    "### Using the Thue-Morse sequence as a sequence of boolean conditionals, we can create decorative melodic fragments that interlink nicely with the existing rhythm section:"
   ]
  },
  {
   "cell_type": "code",
   "execution_count": null,
   "metadata": {},
   "outputs": [],
   "source": [
    "def composite(f,g):\n",
    "    \n",
    "    out = []\n",
    "    k = 0\n",
    "    for i in f:\n",
    "        if i == 0:\n",
    "            out.append(0)\n",
    "        else:\n",
    "            out.append(g[k])\n",
    "        k += 1\n",
    "    \n",
    "    return Pattern(out)"
   ]
  },
  {
   "cell_type": "code",
   "execution_count": null,
   "metadata": {},
   "outputs": [],
   "source": [
    "fg_seq = composite(thue_morse(64),rudin_shapiro(64).invert())\n",
    "\n",
    "print(fg_seq.transform(int))"
   ]
  },
  {
   "cell_type": "code",
   "execution_count": null,
   "metadata": {},
   "outputs": [],
   "source": [
    "A = P[36+8,16+8]\n",
    "B = A.reverse()\n",
    "\n",
    "f1 >> pluck(fg_seq, dur = var([2,1/2],A), sus = f1.dur, blur = 3, amp = 1/2, amplify = tm_seq, vib = var([2,0],A))\n",
    "\n",
    "f2 >> nylon(fg_seq, dur = var([1/2,2],B), sus = f2.dur, blur = 3, amp = 1/2, amplify = (tm_seq.invert() + 1)*.25)\n",
    "\n",
    "f1.pan = [-1,1]\n",
    "f2.pan = [1,-1]\n",
    "\n",
    "f_all.room = .7\n",
    "f_all.mix = .4"
   ]
  },
  {
   "cell_type": "markdown",
   "metadata": {},
   "source": [
    "TODO: ADD TEMPORAL SCHEDULING"
   ]
  },
  {
   "cell_type": "code",
   "execution_count": null,
   "metadata": {},
   "outputs": [],
   "source": [
    "Group(f1,f2,s1,s2,d1).solo()"
   ]
  },
  {
   "cell_type": "code",
   "execution_count": null,
   "metadata": {},
   "outputs": [],
   "source": [
    "Group(f1,f2,s2,d1).solo()"
   ]
  },
  {
   "cell_type": "code",
   "execution_count": null,
   "metadata": {},
   "outputs": [],
   "source": [
    "f_all.solo()"
   ]
  },
  {
   "cell_type": "markdown",
   "metadata": {},
   "source": [
    "### Ok that's enough for now..."
   ]
  },
  {
   "cell_type": "code",
   "execution_count": null,
   "metadata": {},
   "outputs": [],
   "source": [
    "# Stops the entire session\n",
    "Clock.clear()"
   ]
  },
  {
   "cell_type": "markdown",
   "metadata": {},
   "source": [
    "# 'Generative' Systems"
   ]
  },
  {
   "cell_type": "markdown",
   "metadata": {},
   "source": [
    "## Per Nørgård \"Infinity Series\""
   ]
  },
  {
   "cell_type": "markdown",
   "metadata": {},
   "source": [
    "### The *n*th term of Nørgård's sequence is *s*(*n*); it specifies how far away the *n*th element is, in index position, from the first element (located at index 0)."
   ]
  },
  {
   "cell_type": "markdown",
   "metadata": {},
   "source": [
    "#### The *n*th value in the Infinity Series can be found using the rules:"
   ]
  },
  {
   "cell_type": "markdown",
   "metadata": {},
   "source": [
    "<pre><code><b>norgard</b>(<i>n</i>):\n",
    "    <b>input:</b> <i>n</i>-th value of the series <i>n</i>\n",
    "    <b>if</b> <i>n</i> == 0:\n",
    "        return 0\n",
    "    <b>elif</b> <i>n</i> is even:\n",
    "        return -1 * <b>norgard</b>(<i>n</i> / 2)\n",
    "    <b>elif</b> <i>n</i> is odd:\n",
    "        return <b>norgard</b>((<i>n</i> - 1) / 2) + 1</code></pre>"
   ]
  },
  {
   "cell_type": "markdown",
   "metadata": {},
   "source": [
    "### Nørgård's \"Infinity Series\" implemented in Python:"
   ]
  },
  {
   "cell_type": "code",
   "execution_count": null,
   "metadata": {},
   "outputs": [],
   "source": [
    "def norg(n):\n",
    "    pn = [0]*n\n",
    "    pn[0] = 0\n",
    "    pn[1] = 1\n",
    "\n",
    "    for i in range(1,int(n/2)):\n",
    "        pn[2*i] = pn[2*i-2] - (pn[i]-pn[i-1])\n",
    "        pn[2*i+1] = pn[2*i-1] + (pn[i]-pn[i-1])\n",
    "\n",
    "    return Pattern(pn)"
   ]
  },
  {
   "cell_type": "code",
   "execution_count": null,
   "metadata": {},
   "outputs": [],
   "source": [
    "norg_seq = norg(128)\n",
    "tm_seq = thue_morse(64)\n",
    "\n",
    "print(norg_seq)"
   ]
  },
  {
   "cell_type": "code",
   "execution_count": null,
   "metadata": {},
   "outputs": [],
   "source": [
    "tb >> play(\"P\", dur = 1/3, amp = linvar([1/2,1],4), amplify = tm_seq, pan = PRand(-1,1), room = .4, mix = .2)"
   ]
  },
  {
   "cell_type": "markdown",
   "metadata": {},
   "source": []
  },
  {
   "cell_type": "code",
   "execution_count": null,
   "metadata": {},
   "outputs": [],
   "source": [
    "dd >> play(\"R\", dur = 4, amp = linvar([1/2,1],36), room = .6, mix = .4)"
   ]
  },
  {
   "cell_type": "markdown",
   "metadata": {},
   "source": []
  },
  {
   "cell_type": "code",
   "execution_count": null,
   "metadata": {},
   "outputs": [],
   "source": [
    "tm >> play(\"m\", dur = 2/3, amp = (tm_seq.invert() + 1)*.5, amplify = linvar([1/4,1],18), sample = P[:1], room = .5, mix = .4)"
   ]
  },
  {
   "cell_type": "code",
   "execution_count": null,
   "metadata": {},
   "outputs": [],
   "source": [
    "gg >> play(\"Q\", dur = 18, echo = 3/5, echotime = 18, pshift = norg_seq, amp = 2/3, room = 1, mix = [.5,.7,1]).spread()"
   ]
  },
  {
   "cell_type": "code",
   "execution_count": null,
   "metadata": {},
   "outputs": [],
   "source": [
    "tb.sample = norg_seq"
   ]
  },
  {
   "cell_type": "code",
   "execution_count": null,
   "metadata": {},
   "outputs": [],
   "source": [
    "dd.pshift = norg_seq"
   ]
  },
  {
   "cell_type": "code",
   "execution_count": null,
   "metadata": {},
   "outputs": [],
   "source": [
    "f_all.stop()"
   ]
  },
  {
   "cell_type": "code",
   "execution_count": null,
   "metadata": {},
   "outputs": [],
   "source": [
    "s1 >> viola(norg_seq, oct = 6, dur = 7, sus = s1.dur, blur = 3, echo = 2/3, echotime = 9, amp = 1/2, pan = PWhite())"
   ]
  },
  {
   "cell_type": "code",
   "execution_count": null,
   "metadata": {},
   "outputs": [],
   "source": [
    "s2 >> klank(norg_seq.invert(), oct = 5, dur = 9, sus = s2.dur, blur = 3, echo = 2/3, echotime = 9, amp = 1/2).spread()"
   ]
  },
  {
   "cell_type": "code",
   "execution_count": null,
   "metadata": {},
   "outputs": [],
   "source": [
    "s3 >> varsaw(norg_seq.mirror(), oct = 4, dur = 5, sus = s3.dur, blur = 2, shape = .2).spread()"
   ]
  },
  {
   "cell_type": "code",
   "execution_count": null,
   "metadata": {},
   "outputs": [],
   "source": [
    "s4 >> dub(norg_seq, dur = 18, sus = s4.dur, blur = 2, amp = 1/3, dist = .1).spread()"
   ]
  },
  {
   "cell_type": "code",
   "execution_count": null,
   "metadata": {},
   "outputs": [],
   "source": [
    "gl >> glass(norg_seq.splice(norg_seq.invert()), oct = (5,4,3,6), dur = PRand(7,18), sus = gl.dur, blur = 2, shape = .2, pan = [1,-1]).spread()"
   ]
  },
  {
   "cell_type": "code",
   "execution_count": null,
   "metadata": {},
   "outputs": [],
   "source": [
    "vx >> charm(norg_seq, root = PRand([-1/3,-1/6,-9/8,-10/9,0]), oct = 6, dur = PSum([[7,[11,13]],[5,[4,9],3]],18), sus = vx.dur, blur = 2, pan = [1,-1])"
   ]
  },
  {
   "cell_type": "code",
   "execution_count": null,
   "metadata": {},
   "outputs": [],
   "source": [
    "cr >> creep(norg_seq.mirror(), oct = (4,5), dur = 36, vib = 5, slidefrom = norg_seq, room = 1, mix = .7, amp = 1/3, echo = 3/5, echotime = 18, pan = [-1,1])"
   ]
  },
  {
   "cell_type": "code",
   "execution_count": null,
   "metadata": {},
   "outputs": [],
   "source": []
  },
  {
   "cell_type": "code",
   "execution_count": null,
   "metadata": {},
   "outputs": [],
   "source": [
    "ens_1 = Group(tb,dd,tm,gg)\n",
    "ens_2 = Group(s1,s2,g1)\n",
    "ens_3 = Group(s3,s4,cr)"
   ]
  },
  {
   "cell_type": "code",
   "execution_count": null,
   "metadata": {},
   "outputs": [],
   "source": [
    "ens_2.lpf = linvar([1200,350],36)\n",
    "ens_2.lpr = linvar([.1,1],11)"
   ]
  },
  {
   "cell_type": "code",
   "execution_count": null,
   "metadata": {},
   "outputs": [],
   "source": [
    "ens_3.hpf = linvar([350,900],36)\n",
    "ens_3.hpr = linvar([.1,1],7)"
   ]
  },
  {
   "cell_type": "code",
   "execution_count": null,
   "metadata": {},
   "outputs": [],
   "source": [
    "ens_1.bpf = linvar([1100,2500],36)\n",
    "ens_1.bpr = linvar([1,.1],9)"
   ]
  },
  {
   "cell_type": "code",
   "execution_count": null,
   "metadata": {},
   "outputs": [],
   "source": [
    "all_ens = Group(ens_1,ens_2,ens_3)"
   ]
  },
  {
   "cell_type": "code",
   "execution_count": null,
   "metadata": {},
   "outputs": [],
   "source": []
  },
  {
   "cell_type": "code",
   "execution_count": null,
   "metadata": {},
   "outputs": [],
   "source": [
    "all_ens.room = 1\n",
    "all_ens.mix = linvar([.1,1],54)"
   ]
  },
  {
   "cell_type": "code",
   "execution_count": null,
   "metadata": {},
   "outputs": [],
   "source": [
    "all_ens.spin = linvar([1/6,9],72)"
   ]
  },
  {
   "cell_type": "code",
   "execution_count": null,
   "metadata": {},
   "outputs": [],
   "source": [
    "all_ens.echo = 4/5\n",
    "all_ens.echotime = 9"
   ]
  },
  {
   "cell_type": "code",
   "execution_count": null,
   "metadata": {},
   "outputs": [],
   "source": []
  },
  {
   "cell_type": "code",
   "execution_count": null,
   "metadata": {},
   "outputs": [],
   "source": []
  },
  {
   "cell_type": "code",
   "execution_count": null,
   "metadata": {},
   "outputs": [],
   "source": [
    "Master().room = 1\n",
    "Master().mix = .5"
   ]
  },
  {
   "cell_type": "code",
   "execution_count": null,
   "metadata": {},
   "outputs": [],
   "source": []
  },
  {
   "cell_type": "code",
   "execution_count": null,
   "metadata": {},
   "outputs": [],
   "source": [
    "Clock.clear()"
   ]
  },
  {
   "cell_type": "code",
   "execution_count": null,
   "metadata": {},
   "outputs": [],
   "source": []
  },
  {
   "cell_type": "markdown",
   "metadata": {},
   "source": [
    "## Axiom-Substitution"
   ]
  },
  {
   "cell_type": "markdown",
   "metadata": {},
   "source": [
    "## Lindenmayer Systems (L-Systems)"
   ]
  },
  {
   "cell_type": "code",
   "execution_count": null,
   "metadata": {},
   "outputs": [],
   "source": [
    "def algea(n):\n",
    "    axioms = {'A':'AB','B':'A'}\n",
    "    seq = 'A'\n",
    "    for i in range(n):\n",
    "        out = \"\"\n",
    "        for ch in seq:\n",
    "            out += axioms[ch]\n",
    "        seq = out\n",
    "    \n",
    "    return seq"
   ]
  },
  {
   "cell_type": "code",
   "execution_count": null,
   "metadata": {},
   "outputs": [],
   "source": [
    "print(algea(5))"
   ]
  },
  {
   "cell_type": "code",
   "execution_count": null,
   "metadata": {},
   "outputs": [],
   "source": []
  }
 ],
 "metadata": {
  "kernelspec": {
   "display_name": "Python 3",
   "language": "python",
   "name": "python3"
  },
  "language_info": {
   "codemirror_mode": {
    "name": "ipython",
    "version": 3
   },
   "file_extension": ".py",
   "mimetype": "text/x-python",
   "name": "python",
   "nbconvert_exporter": "python",
   "pygments_lexer": "ipython3",
   "version": "3.8.5"
  }
 },
 "nbformat": 4,
 "nbformat_minor": 2
}
